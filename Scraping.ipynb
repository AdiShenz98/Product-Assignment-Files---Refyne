{
 "cells": [
  {
   "cell_type": "code",
   "execution_count": 3,
   "metadata": {},
   "outputs": [],
   "source": [
    "from selenium import webdriver\n",
    "import time\n",
    "import os\n",
    "import pandas as pd"
   ]
  },
  {
   "cell_type": "code",
   "execution_count": 4,
   "metadata": {},
   "outputs": [
    {
     "name": "stdout",
     "output_type": "stream",
     "text": [
      "Table in Url Converted to Excel File and stored in.. C:\\Users\\adish\\Desktop\\Refyn\\RTGS_January2020.xlsx\n"
     ]
    }
   ],
   "source": [
    "driver = webdriver.Chrome(executable_path=\"C:\\chromedriver.exe\")\n",
    "driver.get('https://rbi.org.in/scripts/NEFTView.aspx')\n",
    "\n",
    "driver.maximize_window()\n",
    "time.sleep(1)\n",
    "\n",
    "year = ['2020']\n",
    "Month = ['January']\n",
    "for i in year:\n",
    "    for j in Month:\n",
    "        path = \"'\"+'//div[@id=\"btn'+i+'\" and @class=\"accordionButton year\"]'+\"'\"\n",
    "        arrow1 = driver.find_element_by_xpath(\"//div[@id='btn\"+i+\"' and @class='accordionButton year']\")\n",
    "        arrow1.click()\n",
    "        time.sleep(1)\n",
    "\n",
    "\n",
    "        arrow2 = driver.find_element_by_link_text(j)\n",
    "        arrow2.click()\n",
    "        time.sleep(1)\n",
    "\n",
    "        link = driver.find_element_by_xpath('//a[@class=\"link2\"]')\n",
    "        link.click()\n",
    "        time.sleep(1)\n",
    "\n",
    "        url = driver.current_url\n",
    "        folder_path=os.getcwd()\n",
    "        \n",
    "        # Assign the table data to a Pandas dataframe\n",
    "        table = pd.read_html(url)[3]\n",
    "\n",
    "        # Print the dataframe\n",
    "       \n",
    "        new_excel_file=os.path.join(folder_path,\"RTGS_\"+j+i+\".xlsx\")\n",
    "\n",
    "        writer = pd.ExcelWriter(new_excel_file, engine='openpyxl')\n",
    "    \n",
    "        table.to_excel(writer,sheet_name=\"Output\")\n",
    "    \n",
    "        writer.save()\n",
    "\n",
    "\n",
    "        print(\"Table in Url Converted to Excel File and stored in..\" ,new_excel_file)        "
   ]
  },
  {
   "cell_type": "code",
   "execution_count": 44,
   "metadata": {},
   "outputs": [
    {
     "name": "stdout",
     "output_type": "stream",
     "text": [
      "'//div[@id=\"btn2022\" and @class=\"accordionButton year\"]'\n"
     ]
    }
   ],
   "source": [
    "url = driver.current_url\n",
    "folder_path=os.getcwd()\n",
    "        \n",
    "# Assign the table data to a Pandas dataframe\n",
    "table = pd.read_html(url)[3]\n",
    "\n",
    " # Print the dataframe\n",
    "       \n",
    "new_excel_file=os.path.join(folder_path,\"RTGS_\"+j+i+\".xlsx\")\n",
    "\n",
    "writer = pd.ExcelWriter(new_excel_file, engine='openpyxl')\n",
    "    \n",
    "table.to_excel(writer,sheet_name=\"Output\")\n",
    "    \n",
    "writer.save()\n",
    "\n",
    "print(\"Table in Url Converted to Excel File and stored in..\" ,new_excel_file) "
   ]
  },
  {
   "cell_type": "code",
   "execution_count": 68,
   "metadata": {},
   "outputs": [],
   "source": [
    "driver = webdriver.Chrome(executable_path=\"C:\\chromedriver.exe\")\n",
    "driver.get('https://www.npci.org.in/what-we-do/imps/product-statistics')\n",
    "\n",
    "driver.maximize_window()\n",
    "time.sleep(1)"
   ]
  },
  {
   "cell_type": "code",
   "execution_count": null,
   "metadata": {},
   "outputs": [],
   "source": []
  },
  {
   "cell_type": "code",
   "execution_count": 73,
   "metadata": {},
   "outputs": [],
   "source": [
    "driver = webdriver.Chrome(executable_path=\"C:\\chromedriver.exe\")\n",
    "driver.get('https://www.npci.org.in/what-we-do/upi/upi-ecosystem-statistics')\n",
    "\n",
    "driver.maximize_window()\n",
    "time.sleep(1)"
   ]
  },
  {
   "cell_type": "code",
   "execution_count": 74,
   "metadata": {},
   "outputs": [],
   "source": [
    "import urllib.request\n",
    "from bs4 import BeautifulSoup as bs\n",
    "import re\n",
    "import pandas as pd"
   ]
  },
  {
   "cell_type": "code",
   "execution_count": 75,
   "metadata": {},
   "outputs": [
    {
     "name": "stdout",
     "output_type": "stream",
     "text": [
      "<html><head><title>Request Rejected</title></head><body>The requested URL was rejected. Please consult with your administrator.<br/><br/>Your support ID is: &lt; 9914234444953207418&gt;<br/><br/><a href=\"javascript:history.back();\">[Go Back]</a></body></html>\n"
     ]
    }
   ],
   "source": [
    "page = urllib.request.urlopen('https://www.npci.org.in/what-we-do/upi/upi-ecosystem-statistics')\n",
    "soup = bs(page)\n",
    "\n",
    "print(soup)"
   ]
  },
  {
   "cell_type": "code",
   "execution_count": null,
   "metadata": {},
   "outputs": [],
   "source": []
  }
 ],
 "metadata": {
  "kernelspec": {
   "display_name": "Python 3",
   "language": "python",
   "name": "python3"
  },
  "language_info": {
   "codemirror_mode": {
    "name": "ipython",
    "version": 3
   },
   "file_extension": ".py",
   "mimetype": "text/x-python",
   "name": "python",
   "nbconvert_exporter": "python",
   "pygments_lexer": "ipython3",
   "version": "3.7.6"
  }
 },
 "nbformat": 4,
 "nbformat_minor": 4
}
